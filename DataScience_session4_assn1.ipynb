{
 "cells": [
  {
   "cell_type": "code",
   "execution_count": 3,
   "metadata": {},
   "outputs": [
    {
     "name": "stdout",
     "output_type": "stream",
     "text": [
      "100.0\n"
     ]
    }
   ],
   "source": [
    "''' Write a Python Program(with class concepts) to find the area of the triangle using the below formula.\n",
    " area = (s*(s-a)*(s-b)*(s-c)) ** 0.5\n",
    " Function to take the length of the sides of triangle from user should be defined in the parent\n",
    " class and function to calculate the area should be defined in subclass.\n",
    "'''\n",
    "class Assign():\n",
    "    def __init__(self, s, a, b, c):\n",
    "        self.s = s\n",
    "        self.a = a\n",
    "        self.b = b\n",
    "        self.c = c\n",
    "        \n",
    "class Calculate(Assign):\n",
    "    def __init__(self, *args):\n",
    "        super(Calculate, self).__init__(*args)\n",
    "    \n",
    "    def area(self):\n",
    "        self.area = (self.s*(self.s-self.a)*(self.s-self.b)*(self.s-self.c)) ** 0.5\n",
    "        return self.area\n",
    "\n",
    "calculate = Calculate(20,10,15,10)\n",
    "print (calculate.area())"
   ]
  },
  {
   "cell_type": "code",
   "execution_count": 6,
   "metadata": {},
   "outputs": [
    {
     "name": "stdout",
     "output_type": "stream",
     "text": [
      "['Hello', 'Apple']\n"
     ]
    }
   ],
   "source": [
    "# Write a function filter_long_words() that takes a list of words and an integer n and returns the list\n",
    "# of words that are longer than n.\n",
    "\n",
    "def filter_long_words(list1, n):\n",
    "    templist =[]\n",
    "    for word in list1:\n",
    "        if len(word) > n:\n",
    "            templist.append(word)\n",
    "    return templist\n",
    "\n",
    "print (filter_long_words(['Hi', 'Hello', 'Apple', 'joke'], 4))"
   ]
  }
 ],
 "metadata": {
  "kernelspec": {
   "display_name": "Python 3",
   "language": "python",
   "name": "python3"
  },
  "language_info": {
   "codemirror_mode": {
    "name": "ipython",
    "version": 3
   },
   "file_extension": ".py",
   "mimetype": "text/x-python",
   "name": "python",
   "nbconvert_exporter": "python",
   "pygments_lexer": "ipython3",
   "version": "3.6.3"
  }
 },
 "nbformat": 4,
 "nbformat_minor": 2
}
